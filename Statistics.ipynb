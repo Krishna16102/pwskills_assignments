{
  "nbformat": 4,
  "nbformat_minor": 0,
  "metadata": {
    "colab": {
      "provenance": []
    },
    "kernelspec": {
      "name": "python3",
      "display_name": "Python 3"
    },
    "language_info": {
      "name": "python"
    }
  },
  "cells": [
    {
      "cell_type": "code",
      "source": [
        "import numpy as np\n",
        "import pandas as pd\n",
        "import seaborn as sns\n",
        "import math\n",
        "import matplotlib.pyplot as plt\n",
        "from scipy.stats import skew\n",
        "import scipy.stats as stats\n",
        "import scipy"
      ],
      "metadata": {
        "id": "e7SisQalZcjc"
      },
      "execution_count": 14,
      "outputs": []
    },
    {
      "cell_type": "code",
      "execution_count": 4,
      "metadata": {
        "colab": {
          "base_uri": "https://localhost:8080/"
        },
        "id": "UNk06ocPZOGf",
        "outputId": "92bc2f93-629f-4a8d-ddf4-bdcbd4f3b990"
      },
      "outputs": [
        {
          "output_type": "execute_result",
          "data": {
            "text/plain": [
              "array([ 94, 117,  99, 123, 100, 113, 126, 125,  99, 118, 107,  93, 111,\n",
              "       123, 117, 124, 122, 103, 106, 127, 111, 103,  96, 122,  93, 107,\n",
              "       119,  90, 121,  94,  94, 113, 120,  93,  98, 125, 110, 109,  93,\n",
              "       114, 129, 121, 104, 100, 100, 127, 117, 105, 109, 129,  95, 125,\n",
              "       119, 102,  90,  93, 129, 122, 109,  92, 101, 124, 102, 109, 100,\n",
              "       126, 123,  97, 111, 103, 116, 109, 103, 118, 104, 125, 100, 118,\n",
              "       110,  90, 122,  96, 127, 115, 112, 107, 124, 116, 127, 127, 114,\n",
              "       124, 120, 116, 116, 104, 123, 116, 100, 102])"
            ]
          },
          "metadata": {},
          "execution_count": 4
        }
      ],
      "source": [
        "# 1. Generate a list of 100 integers containing values between 90 to 130 and store it in the variable `int_list`.\n",
        "# After generating the list, find the following:\n",
        "int_list = np.random.randint(90,130,100)\n",
        "int_list"
      ]
    },
    {
      "cell_type": "code",
      "source": [
        "# (i) Write a Python function to calculate the mean of a given list of numbers.\n",
        "# Create a function to find the median of a list of numbers.\n",
        "def mean(numbers):\n",
        "  return np.mean(numbers)\n",
        "def median(numbers):\n",
        "  return np.median(numbers)\n",
        "print(\"Mean :\",mean(int_list))\n",
        "print(\"Median :\",median(int_list))"
      ],
      "metadata": {
        "colab": {
          "base_uri": "https://localhost:8080/"
        },
        "id": "pDElZ10QZpp2",
        "outputId": "5f78c604-4a79-41b1-bd80-e0a15faa9320"
      },
      "execution_count": 5,
      "outputs": [
        {
          "output_type": "stream",
          "name": "stdout",
          "text": [
            "Mean : 110.86\n",
            "Median : 111.0\n"
          ]
        }
      ]
    },
    {
      "cell_type": "code",
      "source": [
        "# (ii) Develop a program to compute the mode of a list of integers.\n",
        "import statistics\n",
        "def mode(numbers):\n",
        "  return statistics.mode(numbers)\n",
        "print(\"Mode :\",mode(int_list))\n"
      ],
      "metadata": {
        "colab": {
          "base_uri": "https://localhost:8080/"
        },
        "id": "39Ego89paQJv",
        "outputId": "94d8a648-9ef2-4781-c18d-0dfd4d9fc7d5"
      },
      "execution_count": 6,
      "outputs": [
        {
          "output_type": "stream",
          "name": "stdout",
          "text": [
            "Mode : 100\n"
          ]
        }
      ]
    },
    {
      "cell_type": "code",
      "source": [
        "#(iii).Implement a function to calculate the weighted mean of a list of values and their corresponding weights.\n",
        "def weighted_mean(numbers,weights):\n",
        "  result = sum(v*w for v ,w in zip(numbers,weights))/sum(weights)\n",
        "  return result\n",
        "weights = np.random.randint(1,10,100)\n",
        "print(\"Weighted Mean :\",weighted_mean(int_list,weights))"
      ],
      "metadata": {
        "colab": {
          "base_uri": "https://localhost:8080/"
        },
        "id": "OkYMoyyCanxF",
        "outputId": "2353fcd4-c40c-4186-bc3f-4c89025ac437"
      },
      "execution_count": 7,
      "outputs": [
        {
          "output_type": "stream",
          "name": "stdout",
          "text": [
            "Weighted Mean : 110.23838383838384\n"
          ]
        }
      ]
    },
    {
      "cell_type": "code",
      "source": [
        "#(iv) Write a Python function to find the geometric mean of a list of positive numbers.\n",
        "def geometric_mean(numbers):\n",
        "  product = math.prod(numbers)\n",
        "  n = len(numbers)\n",
        "  return product **(1/n)\n",
        "d= np.random.randint(1,100,10)\n",
        "print(\"Geometric mean :\",geometric_mean(d))"
      ],
      "metadata": {
        "colab": {
          "base_uri": "https://localhost:8080/"
        },
        "id": "rKIxJYDOcNzP",
        "outputId": "56e6cb56-4a2d-488e-8f53-93f7e4c09443"
      },
      "execution_count": 8,
      "outputs": [
        {
          "output_type": "stream",
          "name": "stdout",
          "text": [
            "Geometric mean : 45.63239798973791\n"
          ]
        }
      ]
    },
    {
      "cell_type": "code",
      "source": [
        "#(v) Create a program to calculate the harmonic mean of a list of values.\n",
        "def harmonic_mean(numbers):\n",
        "  reciprocal_sum = sum(1/v for v in numbers)\n",
        "  n = len(numbers)\n",
        "  return n/reciprocal_sum\n",
        "print(\"Harmonic Mean :\",harmonic_mean(d))"
      ],
      "metadata": {
        "colab": {
          "base_uri": "https://localhost:8080/"
        },
        "id": "EUB-F6zUc-vk",
        "outputId": "e3803ddd-92c8-4fd0-a81d-6df0ebfe28d3"
      },
      "execution_count": 9,
      "outputs": [
        {
          "output_type": "stream",
          "name": "stdout",
          "text": [
            "Harmonic Mean : 31.42069036002219\n"
          ]
        }
      ]
    },
    {
      "cell_type": "code",
      "source": [
        "#(vi) Build a function to determine the midrange of a list of numbers (average of the minimum and maximum).\n",
        "def mid_range(numbers):\n",
        "  max_number = max(numbers)\n",
        "  min_number = min(numbers)\n",
        "  return (max_number + min_number)/2\n",
        "print(\"Mid Range :\",mid_range(d))"
      ],
      "metadata": {
        "colab": {
          "base_uri": "https://localhost:8080/"
        },
        "id": "wqBIFX9temtt",
        "outputId": "84a9f7b8-304f-4ac1-8bf1-ed3d93b8716f"
      },
      "execution_count": 10,
      "outputs": [
        {
          "output_type": "stream",
          "name": "stdout",
          "text": [
            "Mid Range : 50.5\n"
          ]
        }
      ]
    },
    {
      "cell_type": "code",
      "source": [
        "#(vii) Implement a Python program to find the trimmed mean of a list, excluding a certain percentage of outliers.\n",
        "from scipy.stats import trim_mean\n",
        "d= np.random.randint(1,100,10)\n",
        "def trimmed_mean(numbers,portion):\n",
        "  return trim_mean(numbers,portion)\n",
        "print(\"Trim Mean :\",trimmed_mean(d,0.3))"
      ],
      "metadata": {
        "colab": {
          "base_uri": "https://localhost:8080/"
        },
        "id": "SVz-Odg7fMVF",
        "outputId": "1fb5425c-b9de-4dc2-d141-5163443d9b8d"
      },
      "execution_count": 13,
      "outputs": [
        {
          "output_type": "stream",
          "name": "stdout",
          "text": [
            "Trim Mean : 34.75\n"
          ]
        }
      ]
    },
    {
      "cell_type": "code",
      "source": [
        " # 2. Generate a list of 500 integers containing values between 200 to 300 and store it in the variable `int_list2`.\n",
        "# After generating the list, find the following:\n",
        "int_list2 = np.random.randint(200,300,500)\n",
        "import matplotlib.pyplot as plt\n",
        "import scipy.stats as stats\n"
      ],
      "metadata": {
        "id": "clVMS3uWgIM9"
      },
      "execution_count": 51,
      "outputs": []
    },
    {
      "cell_type": "code",
      "source": [
        "# (i) Compare the given list of visualization for the given data:\n",
        "# 1. Frequency & Gaussian distribution\n",
        "\n",
        "# frequency histogram\n",
        "plt.hist(int_list2,bins=20,color='skyblue',edgecolor='black',density=True)\n",
        "# Gaussian distribution\n",
        "xmin,xmax = plt.xlim()\n",
        "x = np.linspace(xmin,xmax,500)\n",
        "p = stats.norm.pdf(x,np.mean(int_list2),np.std(int_list2))\n",
        "plt.plot(x,p,linewidth=2)\n",
        "plt.title(\"Frequency & Gaussian distribution\")\n"
      ],
      "metadata": {
        "colab": {
          "base_uri": "https://localhost:8080/",
          "height": 469
        },
        "id": "uWhg4jkqhAbD",
        "outputId": "b0e4c17c-c496-4f86-9fc1-2a973d7a2add"
      },
      "execution_count": 40,
      "outputs": [
        {
          "output_type": "execute_result",
          "data": {
            "text/plain": [
              "Text(0.5, 1.0, 'Frequency & Gaussian distribution')"
            ]
          },
          "metadata": {},
          "execution_count": 40
        },
        {
          "output_type": "display_data",
          "data": {
            "text/plain": [
              "<Figure size 640x480 with 1 Axes>"
            ],
            "image/png": "[encoded data removed]"
          },
          "metadata": {}
        }
      ]
    },
    {
      "cell_type": "code",
      "source": [
        "# 2. Frequency smoothened KDE plot\n",
        "import seaborn as sns\n",
        "sns.histplot(int_list2,bins=20,kde=True,color='blue',edgecolor='black')\n",
        "plt.title(\"Frequency smoothened KDE plot\")\n"
      ],
      "metadata": {
        "colab": {
          "base_uri": "https://localhost:8080/",
          "height": 469
        },
        "id": "x15TkLFKi6l-",
        "outputId": "914dbd68-33f3-452c-c704-75f48d2c6077"
      },
      "execution_count": 39,
      "outputs": [
        {
          "output_type": "execute_result",
          "data": {
            "text/plain": [
              "Text(0.5, 1.0, 'Frequency smoothened KDE plot')"
            ]
          },
          "metadata": {},
          "execution_count": 39
        },
        {
          "output_type": "display_data",
          "data": {
            "text/plain": [
              "<Figure size 640x480 with 1 Axes>"
            ],
            "image/png": "[encoded data removed]"
          },
          "metadata": {}
        }
      ]
    },
    {
      "cell_type": "code",
      "source": [
        "# 3. Gaussian distribution & smoothened KDE plot\n",
        "# kde plot\n",
        "sns.kdeplot(int_list2,color='black',label='KDE')\n",
        "x = np.linspace(min(int_list2),max(int_list2),500)\n",
        "p =stats.norm.pdf(x,np.mean(int_list2),np.std(int_list2))\n",
        "plt.plot(x,p,'brown',label=\"Gaussian\",linewidth=2)\n",
        "plt.legend()\n",
        "plt.title(\"Gaussian distribution & smoothened KDE plot\")"
      ],
      "metadata": {
        "colab": {
          "base_uri": "https://localhost:8080/",
          "height": 469
        },
        "id": "m08t0F27i6s0",
        "outputId": "34cd1777-7d01-4941-cf7b-93c996c97a00"
      },
      "execution_count": 48,
      "outputs": [
        {
          "output_type": "execute_result",
          "data": {
            "text/plain": [
              "Text(0.5, 1.0, 'Gaussian distribution & smoothened KDE plot')"
            ]
          },
          "metadata": {},
          "execution_count": 48
        },
        {
          "output_type": "display_data",
          "data": {
            "text/plain": [
              "<Figure size 640x480 with 1 Axes>"
            ],
            "image/png": "[encoded data removed]"
          },
          "metadata": {}
        }
      ]
    },
    {
      "cell_type": "code",
      "source": [
        "#(ii) Write a Python function to calculate the range of a given list of numbers\n",
        "def range_of_list(numbers):\n",
        "  return max(numbers)-min(numbers)\n",
        "print(\"Range :\",range_of_list(int_list2))"
      ],
      "metadata": {
        "colab": {
          "base_uri": "https://localhost:8080/"
        },
        "id": "N8YV3GOUr2X-",
        "outputId": "3cf24b8d-2f40-4293-9ad5-57319db3849f"
      },
      "execution_count": 49,
      "outputs": [
        {
          "output_type": "stream",
          "name": "stdout",
          "text": [
            "Range : 99\n"
          ]
        }
      ]
    },
    {
      "cell_type": "code",
      "source": [
        "# (iii) Create a program to find the variance and standard deviation of a list of numbers.\n",
        "def var_std(numbers):\n",
        "  return np.var(numbers),np.std(numbers)\n",
        "variance, std = var_std(int_list2)\n",
        "print(\"Variance :\",variance)\n",
        "print(\"Standard deviation :\",std)"
      ],
      "metadata": {
        "colab": {
          "base_uri": "https://localhost:8080/"
        },
        "id": "QYNI6XNLubXh",
        "outputId": "c105e053-efc4-4214-af62-63fb8cc29e7c"
      },
      "execution_count": 50,
      "outputs": [
        {
          "output_type": "stream",
          "name": "stdout",
          "text": [
            "Variance : 894.476736\n",
            "Standard deviation : 29.907803931415625\n"
          ]
        }
      ]
    },
    {
      "cell_type": "code",
      "source": [
        "#(iv) Implement a function to compute the interquartile range (IQR) of a list of values.\n",
        "def iqr(data):\n",
        "  q1=np.percentile(data,25)\n",
        "  q3=np.percentile(data,75)\n",
        "  return q3-q1\n",
        "print(\"IQR :\",iqr(int_list2))"
      ],
      "metadata": {
        "colab": {
          "base_uri": "https://localhost:8080/"
        },
        "id": "HcN42hyfu27k",
        "outputId": "92a51e18-c037-49aa-dbea-b6527eb8f590"
      },
      "execution_count": 51,
      "outputs": [
        {
          "output_type": "stream",
          "name": "stdout",
          "text": [
            "IQR : 55.0\n"
          ]
        }
      ]
    },
    {
      "cell_type": "code",
      "source": [
        "#(v) Build a program to calculate the coefficient of variation for a dataset.\n",
        "# measure of relative variablilty\n",
        "# cv = (std/mean) * 100\n",
        "def coeff_variation(data):\n",
        "  std = np.std(data)\n",
        "  mean= np.mean(data)\n",
        "  return (std/mean)*100\n",
        "print(\"Coefficient of variation :\",coeff_variation(int_list2),\"%\")"
      ],
      "metadata": {
        "colab": {
          "base_uri": "https://localhost:8080/"
        },
        "id": "tdqTm_lJ09fd",
        "outputId": "bf0a7f74-2fb2-488e-f02d-dd92b22c0239"
      },
      "execution_count": 53,
      "outputs": [
        {
          "output_type": "stream",
          "name": "stdout",
          "text": [
            "Coefficient of variation : 12.069721351543079 %\n"
          ]
        }
      ]
    },
    {
      "cell_type": "code",
      "source": [
        "# (vi) Write a Python function to find the mean absolute deviation (MAD) of a list of numbers.\n",
        "def mean_absolute_deviation(data):\n",
        "  mean = np.mean(data)\n",
        "  n = len(data)\n",
        "  mad = np.mean(np.abs(data-mean))\n",
        "  return mad\n",
        "print(\"mean absolute deviation (MAD) :\",mean_absolute_deviation(int_list2))\n",
        "\n"
      ],
      "metadata": {
        "colab": {
          "base_uri": "https://localhost:8080/"
        },
        "id": "KaPlDd4p1zON",
        "outputId": "b145e75b-1c78-438f-f5f3-c6b20ce53fde"
      },
      "execution_count": 55,
      "outputs": [
        {
          "output_type": "stream",
          "name": "stdout",
          "text": [
            "mean absolute deviation (MAD) : 26.128992000000004\n"
          ]
        }
      ]
    },
    {
      "cell_type": "code",
      "source": [
        "# (vii) Create a program to calculate the quartile deviation of a list of values.\n",
        "# qd = (q3-q1)/2\n",
        "\n",
        "def qua_dev(data):\n",
        "  q1 = np.percentile(data,25)\n",
        "  q3 = np.percentile(data,75)\n",
        "  return (q3-q1)/2\n",
        "print(\"Quartile deviation :\",qua_dev(int_list2))"
      ],
      "metadata": {
        "colab": {
          "base_uri": "https://localhost:8080/"
        },
        "id": "PjJYiQo92yxs",
        "outputId": "7660950b-3e0f-44b6-af62-717e2e5039a8"
      },
      "execution_count": 56,
      "outputs": [
        {
          "output_type": "stream",
          "name": "stdout",
          "text": [
            "Quartile deviation : 27.5\n"
          ]
        }
      ]
    },
    {
      "cell_type": "code",
      "source": [
        "# (viii) Implement a function to find the range-based coefficient of dispersion for a dataset.\n",
        "# measure of relative dispersion\n",
        "# rcd = (max-min)/(max+min)\n",
        "def rcd(data):\n",
        "  maxx = max(data)\n",
        "  minn= min(data)\n",
        "  res = (maxx - minn)/(maxx + minn)\n",
        "  return res\n",
        "print(\"range-based coefficient :\",rcd(int_list2))"
      ],
      "metadata": {
        "colab": {
          "base_uri": "https://localhost:8080/"
        },
        "id": "V0RUlCdx3d78",
        "outputId": "9b4cbc23-6dd4-420f-f0b7-66af8cb950d4"
      },
      "execution_count": 57,
      "outputs": [
        {
          "output_type": "stream",
          "name": "stdout",
          "text": [
            "range-based coefficient : 0.19839679358717435\n"
          ]
        }
      ]
    },
    {
      "cell_type": "code",
      "source": [
        "# 3. Write a Python class representing a discrete random variable with methods to calculate its expected\n",
        "# value and variance.\n",
        "class Discrete_Random_Variables:\n",
        "  def __init__(self,values,probabilities):\n",
        "    self.values = values\n",
        "    self.probabilities = probabilities / np.sum(probabilities)\n",
        "  def expected_value(self):\n",
        "    return sum(v * p for v ,p in zip(self.values,self.probabilities))\n",
        "  def variance(self):\n",
        "    mean = self.expected_value()\n",
        "    return sum((v**2) * p for v ,p in zip(self.values,self.probabilities)) - (mean**2)\n",
        "values = np.arange(1,11)\n",
        "probabilities = np.random.rand(10)\n",
        "rv = Discrete_Random_Variables(values,probabilities)\n",
        "print(\"Expected value :\",rv.expected_value())\n",
        "print(\"Variance :\",rv.variance())"
      ],
      "metadata": {
        "colab": {
          "base_uri": "https://localhost:8080/"
        },
        "id": "fGJB3sJK4uGW",
        "outputId": "1955a35d-a1d8-4848-a28f-776623e48eaa"
      },
      "execution_count": 72,
      "outputs": [
        {
          "output_type": "stream",
          "name": "stdout",
          "text": [
            "Expected value : 5.145341113620986\n",
            "Variance : 9.165700952622618\n"
          ]
        }
      ]
    },
    {
      "cell_type": "code",
      "source": [
        "# 4. Implement a program to simulate the rolling of a fair six-sided die and calculate the expected value and\n",
        "# variance of the outcomes.\n",
        "class Discrete_Random_Variables:\n",
        "  def __init__(self,values,probabilities):\n",
        "    self.values = values\n",
        "    self.probabilities = probabilities\n",
        "  def expected_value(self):\n",
        "    return sum(v * p for v,p in zip(self.values,self.probabilities))\n",
        "  def variance(self):\n",
        "    mean = self.expected_value()\n",
        "    exp = sum((v **2) * p for v,p in zip(self.values,self.probabilities))\n",
        "    return exp - mean ** 2\n",
        "values = [1,2,3,4,5,6]\n",
        "probabilities =[1/6,1/6,1/6,1/6,1/6,1/6]\n",
        "rv = Discrete_Random_Variables(values,probabilities)\n",
        "print(\"Expected value :\",rv.expected_value())\n",
        "print(\"Variance :\",rv.variance())\n"
      ],
      "metadata": {
        "colab": {
          "base_uri": "https://localhost:8080/"
        },
        "id": "0z12zaPO7Ja-",
        "outputId": "2c7a1639-2316-47a0-b227-d29714840b9b"
      },
      "execution_count": 74,
      "outputs": [
        {
          "output_type": "stream",
          "name": "stdout",
          "text": [
            "Expected value : 3.5\n",
            "Variance : 2.916666666666666\n"
          ]
        }
      ]
    },
    {
      "cell_type": "code",
      "source": [
        "# 5. Create a Python function to generate random samples from a given probability distribution (e.g.,\n",
        "# binomial, Poisson) and calculate their mean and variance.\n",
        "def gen_samples(distribution,params,size=1000):\n",
        "  if distribution =='bernouli':\n",
        "    p = params[0]\n",
        "    samples = np.random.binomial(1,p,size)\n",
        "  elif distribution =='binomial':\n",
        "    n,p =params\n",
        "    samples =np.random.binomial(n,p,size)\n",
        "  else:\n",
        "    lamda = params[0]\n",
        "    samples = np.random.poisson(lamda,size)\n",
        "\n",
        "  return samples.mean(),samples.var()\n",
        "ber_mean ,ber_variance = gen_samples('bernouli',(0.5,))\n",
        "bi_mean ,bi_variance = gen_samples('binomial',(10,0.5,))\n",
        "poi_mean ,poi_variance = gen_samples('poission',(10,))\n",
        "print(f\"Binomial => Mean = {bi_mean} , Variance = {bi_variance}\")\n",
        "print(f\"Bernouli => Mean = {ber_mean} , Variance = {ber_variance}\")\n",
        "print(f\"Poisson => Mean = {poi_mean} , Variance = {poi_variance}\")"
      ],
      "metadata": {
        "colab": {
          "base_uri": "https://localhost:8080/"
        },
        "id": "zxuOXkCeASwh",
        "outputId": "576992db-efec-4a5a-bfec-72495cdb8ff0"
      },
      "execution_count": 77,
      "outputs": [
        {
          "output_type": "stream",
          "name": "stdout",
          "text": [
            "Binomial => Mean = 5.055 , Variance = 2.4939750000000003\n",
            "Bernouli => Mean = 0.483 , Variance = 0.24971100000000002\n",
            "Poisson => Mean = 10.03 , Variance = 9.701099999999999\n"
          ]
        }
      ]
    },
    {
      "cell_type": "code",
      "source": [
        "# 6.) Write a Python script to generate random numbers from a Gaussian (normal) distribution and compute\n",
        "# the mean, variance, and standard deviation of the samples.\n",
        "def fun(mean,std,size=1000):\n",
        "  data = np.random.normal(mean,std,size)\n",
        "  return np.mean(data), np.var(data),np.std(data)\n",
        "mean , var,std = fun(0,1)\n",
        "\n",
        "print(\"Mean :\",mean)\n",
        "print(\"Variance :\",var)\n",
        "print(\"Standard Deviation :\",std)"
      ],
      "metadata": {
        "colab": {
          "base_uri": "https://localhost:8080/"
        },
        "id": "bVheCB2NFDdN",
        "outputId": "005a3d06-21c3-40ce-a767-f4aa04707490"
      },
      "execution_count": 3,
      "outputs": [
        {
          "output_type": "stream",
          "name": "stdout",
          "text": [
            "Mean : 0.03213574172232804\n",
            "Variance : 0.9417183872431838\n",
            "Standard Deviation : 0.9704217574040598\n"
          ]
        }
      ]
    },
    {
      "cell_type": "code",
      "source": [
        "# 7. Use seaborn library to load tips dataset. Find the following from the dataset for the columns total_bill and tip`:\n",
        "from scipy.stats import skew\n",
        "data = sns.load_dataset('tips')\n",
        "data =data[['total_bill','tip']]\n",
        "data"
      ],
      "metadata": {
        "colab": {
          "base_uri": "https://localhost:8080/",
          "height": 423
        },
        "id": "Bht_dVAsFCjn",
        "outputId": "a5f64ddf-817e-40d6-f2ca-66d0383f4fc4"
      },
      "execution_count": 18,
      "outputs": [
        {
          "output_type": "execute_result",
          "data": {
            "text/plain": [
              "     total_bill   tip\n",
              "0         16.99  1.01\n",
              "1         10.34  1.66\n",
              "2         21.01  3.50\n",
              "3         23.68  3.31\n",
              "4         24.59  3.61\n",
              "..          ...   ...\n",
              "239       29.03  5.92\n",
              "240       27.18  2.00\n",
              "241       22.67  2.00\n",
              "242       17.82  1.75\n",
              "243       18.78  3.00\n",
              "\n",
              "[244 rows x 2 columns]"
            ],
            "text/html": [
              "\n",
              "  <div id=\"df-a15de564-51b4-4606-82d7-a4c35b13a3e1\" class=\"colab-df-container\">\n",
              "    <div>\n",
              "<style scoped>\n",
              "    .dataframe tbody tr th:only-of-type {\n",
              "        vertical-align: middle;\n",
              "    }\n",
              "\n",
              "    .dataframe tbody tr th {\n",
              "        vertical-align: top;\n",
              "    }\n",
              "\n",
              "    .dataframe thead th {\n",
              "        text-align: right;\n",
              "    }\n",
              "</style>\n",
              "<table border=\"1\" class=\"dataframe\">\n",
              "  <thead>\n",
              "    <tr style=\"text-align: right;\">\n",
              "      <th></th>\n",
              "      <th>total_bill</th>\n",
              "      <th>tip</th>\n",
              "    </tr>\n",
              "  </thead>\n",
              "  <tbody>\n",
              "    <tr>\n",
              "      <th>0</th>\n",
              "      <td>16.99</td>\n",
              "      <td>1.01</td>\n",
              "    </tr>\n",
              "    <tr>\n",
              "      <th>1</th>\n",
              "      <td>10.34</td>\n",
              "      <td>1.66</td>\n",
              "    </tr>\n",
              "    <tr>\n",
              "      <th>2</th>\n",
              "      <td>21.01</td>\n",
              "      <td>3.50</td>\n",
              "    </tr>\n",
              "    <tr>\n",
              "      <th>3</th>\n",
              "      <td>23.68</td>\n",
              "      <td>3.31</td>\n",
              "    </tr>\n",
              "    <tr>\n",
              "      <th>4</th>\n",
              "      <td>24.59</td>\n",
              "      <td>3.61</td>\n",
              "    </tr>\n",
              "    <tr>\n",
              "      <th>...</th>\n",
              "      <td>...</td>\n",
              "      <td>...</td>\n",
              "    </tr>\n",
              "    <tr>\n",
              "      <th>239</th>\n",
              "      <td>29.03</td>\n",
              "      <td>5.92</td>\n",
              "    </tr>\n",
              "    <tr>\n",
              "      <th>240</th>\n",
              "      <td>27.18</td>\n",
              "      <td>2.00</td>\n",
              "    </tr>\n",
              "    <tr>\n",
              "      <th>241</th>\n",
              "      <td>22.67</td>\n",
              "      <td>2.00</td>\n",
              "    </tr>\n",
              "    <tr>\n",
              "      <th>242</th>\n",
              "      <td>17.82</td>\n",
              "      <td>1.75</td>\n",
              "    </tr>\n",
              "    <tr>\n",
              "      <th>243</th>\n",
              "      <td>18.78</td>\n",
              "      <td>3.00</td>\n",
              "    </tr>\n",
              "  </tbody>\n",
              "</table>\n",
              "<p>244 rows × 2 columns</p>\n",
              "</div>\n",
              "    <div class=\"colab-df-buttons\">\n",
              "\n",
              "  <div class=\"colab-df-container\">\n",
              "    <button class=\"colab-df-convert\" onclick=\"convertToInteractive('df-a15de564-51b4-4606-82d7-a4c35b13a3e1')\"\n",
              "            title=\"Convert this dataframe to an interactive table.\"\n",
              "            style=\"display:none;\">\n",
              "\n",
              "  <svg xmlns=\"http://www.w3.org/2000/svg\" height=\"24px\" viewBox=\"0 -960 960 960\">\n",
              "    <path d=\"M120-120v-720h720v720H120Zm60-500h600v-160H180v160Zm220 220h160v-160H400v160Zm0 220h160v-160H400v160ZM180-400h160v-160H180v160Zm440 0h160v-160H620v160ZM180-180h160v-160H180v160Zm440 0h160v-160H620v160Z\"/>\n",
              "  </svg>\n",
              "    </button>\n",
              "\n",
              "  <style>\n",
              "    .colab-df-container {\n",
              "      display:flex;\n",
              "      gap: 12px;\n",
              "    }\n",
              "\n",
              "    .colab-df-convert {\n",
              "      background-color: #E8F0FE;\n",
              "      border: none;\n",
              "      border-radius: 50%;\n",
              "      cursor: pointer;\n",
              "      display: none;\n",
              "      fill: #1967D2;\n",
              "      height: 32px;\n",
              "      padding: 0 0 0 0;\n",
              "      width: 32px;\n",
              "    }\n",
              "\n",
              "    .colab-df-convert:hover {\n",
              "      background-color: #E2EBFA;\n",
              "      box-shadow: 0px 1px 2px rgba(60, 64, 67, 0.3), 0px 1px 3px 1px rgba(60, 64, 67, 0.15);\n",
              "      fill: #174EA6;\n",
              "    }\n",
              "\n",
              "    .colab-df-buttons div {\n",
              "      margin-bottom: 4px;\n",
              "    }\n",
              "\n",
              "    [theme=dark] .colab-df-convert {\n",
              "      background-color: #3B4455;\n",
              "      fill: #D2E3FC;\n",
              "    }\n",
              "\n",
              "    [theme=dark] .colab-df-convert:hover {\n",
              "      background-color: #434B5C;\n",
              "      box-shadow: 0px 1px 3px 1px rgba(0, 0, 0, 0.15);\n",
              "      filter: drop-shadow(0px 1px 2px rgba(0, 0, 0, 0.3));\n",
              "      fill: #FFFFFF;\n",
              "    }\n",
              "  </style>\n",
              "\n",
              "    <script>\n",
              "      const buttonEl =\n",
              "        document.querySelector('#df-a15de564-51b4-4606-82d7-a4c35b13a3e1 button.colab-df-convert');\n",
              "      buttonEl.style.display =\n",
              "        google.colab.kernel.accessAllowed ? 'block' : 'none';\n",
              "\n",
              "      async function convertToInteractive(key) {\n",
              "        const element = document.querySelector('#df-a15de564-51b4-4606-82d7-a4c35b13a3e1');\n",
              "        const dataTable =\n",
              "          await google.colab.kernel.invokeFunction('convertToInteractive',\n",
              "                                                    [key], {});\n",
              "        if (!dataTable) return;\n",
              "\n",
              "        const docLinkHtml = 'Like what you see? Visit the ' +\n",
              "          '<a target=\"_blank\" href=https://colab.research.google.com/notebooks/data_table.ipynb>data table notebook</a>'\n",
              "          + ' to learn more about interactive tables.';\n",
              "        element.innerHTML = '';\n",
              "        dataTable['output_type'] = 'display_data';\n",
              "        await google.colab.output.renderOutput(dataTable, element);\n",
              "        const docLink = document.createElement('div');\n",
              "        docLink.innerHTML = docLinkHtml;\n",
              "        element.appendChild(docLink);\n",
              "      }\n",
              "    </script>\n",
              "  </div>\n",
              "\n",
              "\n",
              "<div id=\"df-9d945929-09cb-4bdf-aba8-1d9ba09b0524\">\n",
              "  <button class=\"colab-df-quickchart\" onclick=\"quickchart('df-9d945929-09cb-4bdf-aba8-1d9ba09b0524')\"\n",
              "            title=\"Suggest charts\"\n",
              "            style=\"display:none;\">\n",
              "\n",
              "<svg xmlns=\"http://www.w3.org/2000/svg\" height=\"24px\"viewBox=\"0 0 24 24\"\n",
              "     width=\"24px\">\n",
              "    <g>\n",
              "        <path d=\"M19 3H5c-1.1 0-2 .9-2 2v14c0 1.1.9 2 2 2h14c1.1 0 2-.9 2-2V5c0-1.1-.9-2-2-2zM9 17H7v-7h2v7zm4 0h-2V7h2v10zm4 0h-2v-4h2v4z\"/>\n",
              "    </g>\n",
              "</svg>\n",
              "  </button>\n",
              "\n",
              "<style>\n",
              "  .colab-df-quickchart {\n",
              "      --bg-color: #E8F0FE;\n",
              "      --fill-color: #1967D2;\n",
              "      --hover-bg-color: #E2EBFA;\n",
              "      --hover-fill-color: #174EA6;\n",
              "      --disabled-fill-color: #AAA;\n",
              "      --disabled-bg-color: #DDD;\n",
              "  }\n",
              "\n",
              "  [theme=dark] .colab-df-quickchart {\n",
              "      --bg-color: #3B4455;\n",
              "      --fill-color: #D2E3FC;\n",
              "      --hover-bg-color: #434B5C;\n",
              "      --hover-fill-color: #FFFFFF;\n",
              "      --disabled-bg-color: #3B4455;\n",
              "      --disabled-fill-color: #666;\n",
              "  }\n",
              "\n",
              "  .colab-df-quickchart {\n",
              "    background-color: var(--bg-color);\n",
              "    border: none;\n",
              "    border-radius: 50%;\n",
              "    cursor: pointer;\n",
              "    display: none;\n",
              "    fill: var(--fill-color);\n",
              "    height: 32px;\n",
              "    padding: 0;\n",
              "    width: 32px;\n",
              "  }\n",
              "\n",
              "  .colab-df-quickchart:hover {\n",
              "    background-color: var(--hover-bg-color);\n",
              "    box-shadow: 0 1px 2px rgba(60, 64, 67, 0.3), 0 1px 3px 1px rgba(60, 64, 67, 0.15);\n",
              "    fill: var(--button-hover-fill-color);\n",
              "  }\n",
              "\n",
              "  .colab-df-quickchart-complete:disabled,\n",
              "  .colab-df-quickchart-complete:disabled:hover {\n",
              "    background-color: var(--disabled-bg-color);\n",
              "    fill: var(--disabled-fill-color);\n",
              "    box-shadow: none;\n",
              "  }\n",
              "\n",
              "  .colab-df-spinner {\n",
              "    border: 2px solid var(--fill-color);\n",
              "    border-color: transparent;\n",
              "    border-bottom-color: var(--fill-color);\n",
              "    animation:\n",
              "      spin 1s steps(1) infinite;\n",
              "  }\n",
              "\n",
              "  @keyframes spin {\n",
              "    0% {\n",
              "      border-color: transparent;\n",
              "      border-bottom-color: var(--fill-color);\n",
              "      border-left-color: var(--fill-color);\n",
              "    }\n",
              "    20% {\n",
              "      border-color: transparent;\n",
              "      border-left-color: var(--fill-color);\n",
              "      border-top-color: var(--fill-color);\n",
              "    }\n",
              "    30% {\n",
              "      border-color: transparent;\n",
              "      border-left-color: var(--fill-color);\n",
              "      border-top-color: var(--fill-color);\n",
              "      border-right-color: var(--fill-color);\n",
              "    }\n",
              "    40% {\n",
              "      border-color: transparent;\n",
              "      border-right-color: var(--fill-color);\n",
              "      border-top-color: var(--fill-color);\n",
              "    }\n",
              "    60% {\n",
              "      border-color: transparent;\n",
              "      border-right-color: var(--fill-color);\n",
              "    }\n",
              "    80% {\n",
              "      border-color: transparent;\n",
              "      border-right-color: var(--fill-color);\n",
              "      border-bottom-color: var(--fill-color);\n",
              "    }\n",
              "    90% {\n",
              "      border-color: transparent;\n",
              "      border-bottom-color: var(--fill-color);\n",
              "    }\n",
              "  }\n",
              "</style>\n",
              "\n",
              "  <script>\n",
              "    async function quickchart(key) {\n",
              "      const quickchartButtonEl =\n",
              "        document.querySelector('#' + key + ' button');\n",
              "      quickchartButtonEl.disabled = true;  // To prevent multiple clicks.\n",
              "      quickchartButtonEl.classList.add('colab-df-spinner');\n",
              "      try {\n",
              "        const charts = await google.colab.kernel.invokeFunction(\n",
              "            'suggestCharts', [key], {});\n",
              "      } catch (error) {\n",
              "        console.error('Error during call to suggestCharts:', error);\n",
              "      }\n",
              "      quickchartButtonEl.classList.remove('colab-df-spinner');\n",
              "      quickchartButtonEl.classList.add('colab-df-quickchart-complete');\n",
              "    }\n",
              "    (() => {\n",
              "      let quickchartButtonEl =\n",
              "        document.querySelector('#df-9d945929-09cb-4bdf-aba8-1d9ba09b0524 button');\n",
              "      quickchartButtonEl.style.display =\n",
              "        google.colab.kernel.accessAllowed ? 'block' : 'none';\n",
              "    })();\n",
              "  </script>\n",
              "</div>\n",
              "\n",
              "  <div id=\"id_f10f81c3-8153-44b1-8f25-078e4fb7b806\">\n",
              "    <style>\n",
              "      .colab-df-generate {\n",
              "        background-color: #E8F0FE;\n",
              "        border: none;\n",
              "        border-radius: 50%;\n",
              "        cursor: pointer;\n",
              "        display: none;\n",
              "        fill: #1967D2;\n",
              "        height: 32px;\n",
              "        padding: 0 0 0 0;\n",
              "        width: 32px;\n",
              "      }\n",
              "\n",
              "      .colab-df-generate:hover {\n",
              "        background-color: #E2EBFA;\n",
              "        box-shadow: 0px 1px 2px rgba(60, 64, 67, 0.3), 0px 1px 3px 1px rgba(60, 64, 67, 0.15);\n",
              "        fill: #174EA6;\n",
              "      }\n",
              "\n",
              "      [theme=dark] .colab-df-generate {\n",
              "        background-color: #3B4455;\n",
              "        fill: #D2E3FC;\n",
              "      }\n",
              "\n",
              "      [theme=dark] .colab-df-generate:hover {\n",
              "        background-color: #434B5C;\n",
              "        box-shadow: 0px 1px 3px 1px rgba(0, 0, 0, 0.15);\n",
              "        filter: drop-shadow(0px 1px 2px rgba(0, 0, 0, 0.3));\n",
              "        fill: #FFFFFF;\n",
              "      }\n",
              "    </style>\n",
              "    <button class=\"colab-df-generate\" onclick=\"generateWithVariable('data')\"\n",
              "            title=\"Generate code using this dataframe.\"\n",
              "            style=\"display:none;\">\n",
              "\n",
              "  <svg xmlns=\"http://www.w3.org/2000/svg\" height=\"24px\"viewBox=\"0 0 24 24\"\n",
              "       width=\"24px\">\n",
              "    <path d=\"M7,19H8.4L18.45,9,17,7.55,7,17.6ZM5,21V16.75L18.45,3.32a2,2,0,0,1,2.83,0l1.4,1.43a1.91,1.91,0,0,1,.58,1.4,1.91,1.91,0,0,1-.58,1.4L9.25,21ZM18.45,9,17,7.55Zm-12,3A5.31,5.31,0,0,0,4.9,8.1,5.31,5.31,0,0,0,1,6.5,5.31,5.31,0,0,0,4.9,4.9,5.31,5.31,0,0,0,6.5,1,5.31,5.31,0,0,0,8.1,4.9,5.31,5.31,0,0,0,12,6.5,5.46,5.46,0,0,0,6.5,12Z\"/>\n",
              "  </svg>\n",
              "    </button>\n",
              "    <script>\n",
              "      (() => {\n",
              "      const buttonEl =\n",
              "        document.querySelector('#id_f10f81c3-8153-44b1-8f25-078e4fb7b806 button.colab-df-generate');\n",
              "      buttonEl.style.display =\n",
              "        google.colab.kernel.accessAllowed ? 'block' : 'none';\n",
              "\n",
              "      buttonEl.onclick = () => {\n",
              "        google.colab.notebook.generateWithVariable('data');\n",
              "      }\n",
              "      })();\n",
              "    </script>\n",
              "  </div>\n",
              "\n",
              "    </div>\n",
              "  </div>\n"
            ],
            "application/vnd.google.colaboratory.intrinsic+json": {
              "type": "dataframe",
              "variable_name": "data",
              "summary": "{\n  \"name\": \"data\",\n  \"rows\": 244,\n  \"fields\": [\n    {\n      \"column\": \"total_bill\",\n      \"properties\": {\n        \"dtype\": \"number\",\n        \"std\": 8.902411954856856,\n        \"min\": 3.07,\n        \"max\": 50.81,\n        \"num_unique_values\": 229,\n        \"samples\": [\n          22.12,\n          20.23,\n          14.78\n        ],\n        \"semantic_type\": \"\",\n        \"description\": \"\"\n      }\n    },\n    {\n      \"column\": \"tip\",\n      \"properties\": {\n        \"dtype\": \"number\",\n        \"std\": 1.3836381890011826,\n        \"min\": 1.0,\n        \"max\": 10.0,\n        \"num_unique_values\": 123,\n        \"samples\": [\n          3.35,\n          1.5,\n          6.73\n        ],\n        \"semantic_type\": \"\",\n        \"description\": \"\"\n      }\n    }\n  ]\n}"
            }
          },
          "metadata": {},
          "execution_count": 18
        }
      ]
    },
    {
      "cell_type": "code",
      "source": [
        "# (i) Write a Python function that calculates their skewness\n",
        "def find_skew(data):\n",
        "  skewness = skew(data,bias=False)\n",
        "  return skewness\n",
        "print(\"Skewness :\",find_skew(data))\n"
      ],
      "metadata": {
        "colab": {
          "base_uri": "https://localhost:8080/"
        },
        "id": "T5R4Nnqq68Ll",
        "outputId": "cb8c34be-6a8d-423d-9f02-52e132e93ab0"
      },
      "execution_count": 19,
      "outputs": [
        {
          "output_type": "stream",
          "name": "stdout",
          "text": [
            "Skewness : [1.13321304 1.46545104]\n"
          ]
        }
      ]
    },
    {
      "cell_type": "code",
      "source": [
        "# (ii) Create a program that determines whether the columns exhibit positive skewness, negative skewness, or is\n",
        "# approximately symmetric.\n",
        "skewness = skew(data,bias=False)\n",
        "if skewness.all()>0.5:\n",
        "  print('Positive Symmetric')\n",
        "elif skewness.all() < -0.5:\n",
        "  print('Negative Symmetric')\n",
        "else:\n",
        "  print('Approximately Symmetric')\n",
        "data"
      ],
      "metadata": {
        "colab": {
          "base_uri": "https://localhost:8080/",
          "height": 441
        },
        "id": "PVToHyqp77Yx",
        "outputId": "68259786-9e5c-4877-c548-3176787b5be0"
      },
      "execution_count": 26,
      "outputs": [
        {
          "output_type": "stream",
          "name": "stdout",
          "text": [
            "Positive Symmetric\n"
          ]
        },
        {
          "output_type": "execute_result",
          "data": {
            "text/plain": [
              "     total_bill   tip\n",
              "0         16.99  1.01\n",
              "1         10.34  1.66\n",
              "2         21.01  3.50\n",
              "3         23.68  3.31\n",
              "4         24.59  3.61\n",
              "..          ...   ...\n",
              "239       29.03  5.92\n",
              "240       27.18  2.00\n",
              "241       22.67  2.00\n",
              "242       17.82  1.75\n",
              "243       18.78  3.00\n",
              "\n",
              "[244 rows x 2 columns]"
            ],
            "text/html": [
              "\n",
              "  <div id=\"df-99f5eac4-b4ab-41e2-94c0-0dfbef6d8bfe\" class=\"colab-df-container\">\n",
              "    <div>\n",
              "<style scoped>\n",
              "    .dataframe tbody tr th:only-of-type {\n",
              "        vertical-align: middle;\n",
              "    }\n",
              "\n",
              "    .dataframe tbody tr th {\n",
              "        vertical-align: top;\n",
              "    }\n",
              "\n",
              "    .dataframe thead th {\n",
              "        text-align: right;\n",
              "    }\n",
              "</style>\n",
              "<table border=\"1\" class=\"dataframe\">\n",
              "  <thead>\n",
              "    <tr style=\"text-align: right;\">\n",
              "      <th></th>\n",
              "      <th>total_bill</th>\n",
              "      <th>tip</th>\n",
              "    </tr>\n",
              "  </thead>\n",
              "  <tbody>\n",
              "    <tr>\n",
              "      <th>0</th>\n",
              "      <td>16.99</td>\n",
              "      <td>1.01</td>\n",
              "    </tr>\n",
              "    <tr>\n",
              "      <th>1</th>\n",
              "      <td>10.34</td>\n",
              "      <td>1.66</td>\n",
              "    </tr>\n",
              "    <tr>\n",
              "      <th>2</th>\n",
              "      <td>21.01</td>\n",
              "      <td>3.50</td>\n",
              "    </tr>\n",
              "    <tr>\n",
              "      <th>3</th>\n",
              "      <td>23.68</td>\n",
              "      <td>3.31</td>\n",
              "    </tr>\n",
              "    <tr>\n",
              "      <th>4</th>\n",
              "      <td>24.59</td>\n",
              "      <td>3.61</td>\n",
              "    </tr>\n",
              "    <tr>\n",
              "      <th>...</th>\n",
              "      <td>...</td>\n",
              "      <td>...</td>\n",
              "    </tr>\n",
              "    <tr>\n",
              "      <th>239</th>\n",
              "      <td>29.03</td>\n",
              "      <td>5.92</td>\n",
              "    </tr>\n",
              "    <tr>\n",
              "      <th>240</th>\n",
              "      <td>27.18</td>\n",
              "      <td>2.00</td>\n",
              "    </tr>\n",
              "    <tr>\n",
              "      <th>241</th>\n",
              "      <td>22.67</td>\n",
              "      <td>2.00</td>\n",
              "    </tr>\n",
              "    <tr>\n",
              "      <th>242</th>\n",
              "      <td>17.82</td>\n",
              "      <td>1.75</td>\n",
              "    </tr>\n",
              "    <tr>\n",
              "      <th>243</th>\n",
              "      <td>18.78</td>\n",
              "      <td>3.00</td>\n",
              "    </tr>\n",
              "  </tbody>\n",
              "</table>\n",
              "<p>244 rows × 2 columns</p>\n",
              "</div>\n",
              "    <div class=\"colab-df-buttons\">\n",
              "\n",
              "  <div class=\"colab-df-container\">\n",
              "    <button class=\"colab-df-convert\" onclick=\"convertToInteractive('df-99f5eac4-b4ab-41e2-94c0-0dfbef6d8bfe')\"\n",
              "            title=\"Convert this dataframe to an interactive table.\"\n",
              "            style=\"display:none;\">\n",
              "\n",
              "  <svg xmlns=\"http://www.w3.org/2000/svg\" height=\"24px\" viewBox=\"0 -960 960 960\">\n",
              "    <path d=\"M120-120v-720h720v720H120Zm60-500h600v-160H180v160Zm220 220h160v-160H400v160Zm0 220h160v-160H400v160ZM180-400h160v-160H180v160Zm440 0h160v-160H620v160ZM180-180h160v-160H180v160Zm440 0h160v-160H620v160Z\"/>\n",
              "  </svg>\n",
              "    </button>\n",
              "\n",
              "  <style>\n",
              "    .colab-df-container {\n",
              "      display:flex;\n",
              "      gap: 12px;\n",
              "    }\n",
              "\n",
              "    .colab-df-convert {\n",
              "      background-color: #E8F0FE;\n",
              "      border: none;\n",
              "      border-radius: 50%;\n",
              "      cursor: pointer;\n",
              "      display: none;\n",
              "      fill: #1967D2;\n",
              "      height: 32px;\n",
              "      padding: 0 0 0 0;\n",
              "      width: 32px;\n",
              "    }\n",
              "\n",
              "    .colab-df-convert:hover {\n",
              "      background-color: #E2EBFA;\n",
              "      box-shadow: 0px 1px 2px rgba(60, 64, 67, 0.3), 0px 1px 3px 1px rgba(60, 64, 67, 0.15);\n",
              "      fill: #174EA6;\n",
              "    }\n",
              "\n",
              "    .colab-df-buttons div {\n",
              "      margin-bottom: 4px;\n",
              "    }\n",
              "\n",
              "    [theme=dark] .colab-df-convert {\n",
              "      background-color: #3B4455;\n",
              "      fill: #D2E3FC;\n",
              "    }\n",
              "\n",
              "    [theme=dark] .colab-df-convert:hover {\n",
              "      background-color: #434B5C;\n",
              "      box-shadow: 0px 1px 3px 1px rgba(0, 0, 0, 0.15);\n",
              "      filter: drop-shadow(0px 1px 2px rgba(0, 0, 0, 0.3));\n",
              "      fill: #FFFFFF;\n",
              "    }\n",
              "  </style>\n",
              "\n",
              "    <script>\n",
              "      const buttonEl =\n",
              "        document.querySelector('#df-99f5eac4-b4ab-41e2-94c0-0dfbef6d8bfe button.colab-df-convert');\n",
              "      buttonEl.style.display =\n",
              "        google.colab.kernel.accessAllowed ? 'block' : 'none';\n",
              "\n",
              "      async function convertToInteractive(key) {\n",
              "        const element = document.querySelector('#df-99f5eac4-b4ab-41e2-94c0-0dfbef6d8bfe');\n",
              "        const dataTable =\n",
              "          await google.colab.kernel.invokeFunction('convertToInteractive',\n",
              "                                                    [key], {});\n",
              "        if (!dataTable) return;\n",
              "\n",
              "        const docLinkHtml = 'Like what you see? Visit the ' +\n",
              "          '<a target=\"_blank\" href=https://colab.research.google.com/notebooks/data_table.ipynb>data table notebook</a>'\n",
              "          + ' to learn more about interactive tables.';\n",
              "        element.innerHTML = '';\n",
              "        dataTable['output_type'] = 'display_data';\n",
              "        await google.colab.output.renderOutput(dataTable, element);\n",
              "        const docLink = document.createElement('div');\n",
              "        docLink.innerHTML = docLinkHtml;\n",
              "        element.appendChild(docLink);\n",
              "      }\n",
              "    </script>\n",
              "  </div>\n",
              "\n",
              "\n",
              "<div id=\"df-ff3c64d5-570b-4aaa-bfe0-a7ff94ab21b5\">\n",
              "  <button class=\"colab-df-quickchart\" onclick=\"quickchart('df-ff3c64d5-570b-4aaa-bfe0-a7ff94ab21b5')\"\n",
              "            title=\"Suggest charts\"\n",
              "            style=\"display:none;\">\n",
              "\n",
              "<svg xmlns=\"http://www.w3.org/2000/svg\" height=\"24px\"viewBox=\"0 0 24 24\"\n",
              "     width=\"24px\">\n",
              "    <g>\n",
              "        <path d=\"M19 3H5c-1.1 0-2 .9-2 2v14c0 1.1.9 2 2 2h14c1.1 0 2-.9 2-2V5c0-1.1-.9-2-2-2zM9 17H7v-7h2v7zm4 0h-2V7h2v10zm4 0h-2v-4h2v4z\"/>\n",
              "    </g>\n",
              "</svg>\n",
              "  </button>\n",
              "\n",
              "<style>\n",
              "  .colab-df-quickchart {\n",
              "      --bg-color: #E8F0FE;\n",
              "      --fill-color: #1967D2;\n",
              "      --hover-bg-color: #E2EBFA;\n",
              "      --hover-fill-color: #174EA6;\n",
              "      --disabled-fill-color: #AAA;\n",
              "      --disabled-bg-color: #DDD;\n",
              "  }\n",
              "\n",
              "  [theme=dark] .colab-df-quickchart {\n",
              "      --bg-color: #3B4455;\n",
              "      --fill-color: #D2E3FC;\n",
              "      --hover-bg-color: #434B5C;\n",
              "      --hover-fill-color: #FFFFFF;\n",
              "      --disabled-bg-color: #3B4455;\n",
              "      --disabled-fill-color: #666;\n",
              "  }\n",
              "\n",
              "  .colab-df-quickchart {\n",
              "    background-color: var(--bg-color);\n",
              "    border: none;\n",
              "    border-radius: 50%;\n",
              "    cursor: pointer;\n",
              "    display: none;\n",
              "    fill: var(--fill-color);\n",
              "    height: 32px;\n",
              "    padding: 0;\n",
              "    width: 32px;\n",
              "  }\n",
              "\n",
              "  .colab-df-quickchart:hover {\n",
              "    background-color: var(--hover-bg-color);\n",
              "    box-shadow: 0 1px 2px rgba(60, 64, 67, 0.3), 0 1px 3px 1px rgba(60, 64, 67, 0.15);\n",
              "    fill: var(--button-hover-fill-color);\n",
              "  }\n",
              "\n",
              "  .colab-df-quickchart-complete:disabled,\n",
              "  .colab-df-quickchart-complete:disabled:hover {\n",
              "    background-color: var(--disabled-bg-color);\n",
              "    fill: var(--disabled-fill-color);\n",
              "    box-shadow: none;\n",
              "  }\n",
              "\n",
              "  .colab-df-spinner {\n",
              "    border: 2px solid var(--fill-color);\n",
              "    border-color: transparent;\n",
              "    border-bottom-color: var(--fill-color);\n",
              "    animation:\n",
              "      spin 1s steps(1) infinite;\n",
              "  }\n",
              "\n",
              "  @keyframes spin {\n",
              "    0% {\n",
              "      border-color: transparent;\n",
              "      border-bottom-color: var(--fill-color);\n",
              "      border-left-color: var(--fill-color);\n",
              "    }\n",
              "    20% {\n",
              "      border-color: transparent;\n",
              "      border-left-color: var(--fill-color);\n",
              "      border-top-color: var(--fill-color);\n",
              "    }\n",
              "    30% {\n",
              "      border-color: transparent;\n",
              "      border-left-color: var(--fill-color);\n",
              "      border-top-color: var(--fill-color);\n",
              "      border-right-color: var(--fill-color);\n",
              "    }\n",
              "    40% {\n",
              "      border-color: transparent;\n",
              "      border-right-color: var(--fill-color);\n",
              "      border-top-color: var(--fill-color);\n",
              "    }\n",
              "    60% {\n",
              "      border-color: transparent;\n",
              "      border-right-color: var(--fill-color);\n",
              "    }\n",
              "    80% {\n",
              "      border-color: transparent;\n",
              "      border-right-color: var(--fill-color);\n",
              "      border-bottom-color: var(--fill-color);\n",
              "    }\n",
              "    90% {\n",
              "      border-color: transparent;\n",
              "      border-bottom-color: var(--fill-color);\n",
              "    }\n",
              "  }\n",
              "</style>\n",
              "\n",
              "  <script>\n",
              "    async function quickchart(key) {\n",
              "      const quickchartButtonEl =\n",
              "        document.querySelector('#' + key + ' button');\n",
              "      quickchartButtonEl.disabled = true;  // To prevent multiple clicks.\n",
              "      quickchartButtonEl.classList.add('colab-df-spinner');\n",
              "      try {\n",
              "        const charts = await google.colab.kernel.invokeFunction(\n",
              "            'suggestCharts', [key], {});\n",
              "      } catch (error) {\n",
              "        console.error('Error during call to suggestCharts:', error);\n",
              "      }\n",
              "      quickchartButtonEl.classList.remove('colab-df-spinner');\n",
              "      quickchartButtonEl.classList.add('colab-df-quickchart-complete');\n",
              "    }\n",
              "    (() => {\n",
              "      let quickchartButtonEl =\n",
              "        document.querySelector('#df-ff3c64d5-570b-4aaa-bfe0-a7ff94ab21b5 button');\n",
              "      quickchartButtonEl.style.display =\n",
              "        google.colab.kernel.accessAllowed ? 'block' : 'none';\n",
              "    })();\n",
              "  </script>\n",
              "</div>\n",
              "\n",
              "  <div id=\"id_39e5dede-364a-4abe-b024-5c43804c7f23\">\n",
              "    <style>\n",
              "      .colab-df-generate {\n",
              "        background-color: #E8F0FE;\n",
              "        border: none;\n",
              "        border-radius: 50%;\n",
              "        cursor: pointer;\n",
              "        display: none;\n",
              "        fill: #1967D2;\n",
              "        height: 32px;\n",
              "        padding: 0 0 0 0;\n",
              "        width: 32px;\n",
              "      }\n",
              "\n",
              "      .colab-df-generate:hover {\n",
              "        background-color: #E2EBFA;\n",
              "        box-shadow: 0px 1px 2px rgba(60, 64, 67, 0.3), 0px 1px 3px 1px rgba(60, 64, 67, 0.15);\n",
              "        fill: #174EA6;\n",
              "      }\n",
              "\n",
              "      [theme=dark] .colab-df-generate {\n",
              "        background-color: #3B4455;\n",
              "        fill: #D2E3FC;\n",
              "      }\n",
              "\n",
              "      [theme=dark] .colab-df-generate:hover {\n",
              "        background-color: #434B5C;\n",
              "        box-shadow: 0px 1px 3px 1px rgba(0, 0, 0, 0.15);\n",
              "        filter: drop-shadow(0px 1px 2px rgba(0, 0, 0, 0.3));\n",
              "        fill: #FFFFFF;\n",
              "      }\n",
              "    </style>\n",
              "    <button class=\"colab-df-generate\" onclick=\"generateWithVariable('data')\"\n",
              "            title=\"Generate code using this dataframe.\"\n",
              "            style=\"display:none;\">\n",
              "\n",
              "  <svg xmlns=\"http://www.w3.org/2000/svg\" height=\"24px\"viewBox=\"0 0 24 24\"\n",
              "       width=\"24px\">\n",
              "    <path d=\"M7,19H8.4L18.45,9,17,7.55,7,17.6ZM5,21V16.75L18.45,3.32a2,2,0,0,1,2.83,0l1.4,1.43a1.91,1.91,0,0,1,.58,1.4,1.91,1.91,0,0,1-.58,1.4L9.25,21ZM18.45,9,17,7.55Zm-12,3A5.31,5.31,0,0,0,4.9,8.1,5.31,5.31,0,0,0,1,6.5,5.31,5.31,0,0,0,4.9,4.9,5.31,5.31,0,0,0,6.5,1,5.31,5.31,0,0,0,8.1,4.9,5.31,5.31,0,0,0,12,6.5,5.46,5.46,0,0,0,6.5,12Z\"/>\n",
              "  </svg>\n",
              "    </button>\n",
              "    <script>\n",
              "      (() => {\n",
              "      const buttonEl =\n",
              "        document.querySelector('#id_39e5dede-364a-4abe-b024-5c43804c7f23 button.colab-df-generate');\n",
              "      buttonEl.style.display =\n",
              "        google.colab.kernel.accessAllowed ? 'block' : 'none';\n",
              "\n",
              "      buttonEl.onclick = () => {\n",
              "        google.colab.notebook.generateWithVariable('data');\n",
              "      }\n",
              "      })();\n",
              "    </script>\n",
              "  </div>\n",
              "\n",
              "    </div>\n",
              "  </div>\n"
            ],
            "application/vnd.google.colaboratory.intrinsic+json": {
              "type": "dataframe",
              "variable_name": "data",
              "summary": "{\n  \"name\": \"data\",\n  \"rows\": 244,\n  \"fields\": [\n    {\n      \"column\": \"total_bill\",\n      \"properties\": {\n        \"dtype\": \"number\",\n        \"std\": 8.902411954856856,\n        \"min\": 3.07,\n        \"max\": 50.81,\n        \"num_unique_values\": 229,\n        \"samples\": [\n          22.12,\n          20.23,\n          14.78\n        ],\n        \"semantic_type\": \"\",\n        \"description\": \"\"\n      }\n    },\n    {\n      \"column\": \"tip\",\n      \"properties\": {\n        \"dtype\": \"number\",\n        \"std\": 1.3836381890011826,\n        \"min\": 1.0,\n        \"max\": 10.0,\n        \"num_unique_values\": 123,\n        \"samples\": [\n          3.35,\n          1.5,\n          6.73\n        ],\n        \"semantic_type\": \"\",\n        \"description\": \"\"\n      }\n    }\n  ]\n}"
            }
          },
          "metadata": {},
          "execution_count": 26
        }
      ]
    },
    {
      "cell_type": "code",
      "source": [
        "# (iii) Write a function that calculates the covariance between two columns.\n",
        "def covariance(data):\n",
        "  return np.cov(data)[0,1]\n",
        "print(\"Covarince :\",covariance(data))"
      ],
      "metadata": {
        "colab": {
          "base_uri": "https://localhost:8080/"
        },
        "id": "PtEzO-7h_HdB",
        "outputId": "ceeedce4-7314-49fe-8b45-8777d2ac8199"
      },
      "execution_count": 27,
      "outputs": [
        {
          "output_type": "stream",
          "name": "stdout",
          "text": [
            "Covarince : 69.35319999999999\n"
          ]
        }
      ]
    },
    {
      "cell_type": "code",
      "source": [
        "#   (iv) Implement a Python program that calculates the Pearson correlation coefficient between two columns.\n",
        "print(\"Pearson Corelation is :\",data['total_bill'].corr(data['tip']))"
      ],
      "metadata": {
        "colab": {
          "base_uri": "https://localhost:8080/"
        },
        "id": "E6zL-zhAAqm3",
        "outputId": "f3a70c69-bc94-4183-8fac-7e7515504673"
      },
      "execution_count": 29,
      "outputs": [
        {
          "output_type": "stream",
          "name": "stdout",
          "text": [
            "Pearson Corelation is : 0.6757341092113641\n"
          ]
        }
      ]
    },
    {
      "cell_type": "code",
      "source": [
        "# ) Write a script to visualize the correlation between two specific columns in a Pandas DataFrame using scatter plots.\n",
        "sns.scatterplot(x=data['total_bill'],y=data['tip'],color='r')\n",
        "plt.xlabel('total_bill')\n",
        "plt.ylabel('tip')\n",
        "plt.title(\"total_bill vs tip\")\n",
        "plt.grid()\n",
        "plt.legend()"
      ],
      "metadata": {
        "colab": {
          "base_uri": "https://localhost:8080/",
          "height": 544
        },
        "id": "iuJR7v1RCjqf",
        "outputId": "a08cf8a8-020c-4474-f13b-d54c06742ae5"
      },
      "execution_count": 32,
      "outputs": [
        {
          "output_type": "stream",
          "name": "stderr",
          "text": [
            "<ipython-input-32-01e40d8f4b4e>:7: UserWarning: No artists with labels found to put in legend.  Note that artists whose label start with an underscore are ignored when legend() is called with no argument.\n",
            "  plt.legend()\n"
          ]
        },
        {
          "output_type": "execute_result",
          "data": {
            "text/plain": [
              "<matplotlib.legend.Legend at 0x7dae70964250>"
            ]
          },
          "metadata": {},
          "execution_count": 32
        },
        {
          "output_type": "display_data",
          "data": {
            "text/plain": [
              "<Figure size 640x480 with 1 Axes>"
            ],
            "image/png": "[encoded data removed]"
          },
          "metadata": {}
        }
      ]
    },
    {
      "cell_type": "code",
      "source": [
        "# 8. ) Write a Python function to calculate the probability density function (PDF) of a continuous random\n",
        "# variable for a given normal distribution.\n",
        "def normal_pdf(x,mean,std):\n",
        "  num = 1/(std * np.sqrt(2 * np.pi))\n",
        "  exponent = np.exp(-((x-mean)**2))/(2 * std**2)\n",
        "  return num * exponent\n",
        "x_values =np.linspace(-6,6,1000)\n",
        "pdf_values = normal_pdf(x_values,0,1)\n",
        "plt.plot(x_values,pdf_values,color=\"violet\")\n",
        "plt.xlabel(\"X_values\")\n",
        "plt.ylabel(\"pdf_values\")\n"
      ],
      "metadata": {
        "colab": {
          "base_uri": "https://localhost:8080/",
          "height": 467
        },
        "id": "NPY8p_PJDboY",
        "outputId": "317198a4-ca00-4a8d-b26b-590685f918a2"
      },
      "execution_count": 35,
      "outputs": [
        {
          "output_type": "execute_result",
          "data": {
            "text/plain": [
              "Text(0, 0.5, 'pdf_values')"
            ]
          },
          "metadata": {},
          "execution_count": 35
        },
        {
          "output_type": "display_data",
          "data": {
            "text/plain": [
              "<Figure size 640x480 with 1 Axes>"
            ],
            "image/png": "[encoded data removed]"
          },
          "metadata": {}
        }
      ]
    },
    {
      "cell_type": "code",
      "source": [
        "# 9.Create a program to calculate the cumulative distribution function (CDF) of exponential distribution\n",
        " # lambda : how frequently the event occurs\n",
        "def cdf(x,lambdaa):\n",
        "  res = 1 - np.exp(-lambdaa * x)\n",
        "  return res\n",
        "data = np.linspace(-5,5,1000)\n",
        "lam = 1.5\n",
        "cdf_values = [cdf(x,lam) for x in data]\n",
        "plt.plot(data,cdf_values,color=\"blue\")\n",
        "plt.xlabel(\"X_values\")\n",
        "plt.ylabel(\"CDF_values\")\n",
        "plt.title(\"CDF\")\n",
        "\n",
        "\n"
      ],
      "metadata": {
        "colab": {
          "base_uri": "https://localhost:8080/",
          "height": 489
        },
        "id": "jPqNbwTFG-cG",
        "outputId": "741710dd-6cc3-4f40-e309-c5396902c9eb"
      },
      "execution_count": 37,
      "outputs": [
        {
          "output_type": "execute_result",
          "data": {
            "text/plain": [
              "Text(0.5, 1.0, 'CDF')"
            ]
          },
          "metadata": {},
          "execution_count": 37
        },
        {
          "output_type": "display_data",
          "data": {
            "text/plain": [
              "<Figure size 640x480 with 1 Axes>"
            ],
            "image/png": "[encoded data removed]"
          },
          "metadata": {}
        }
      ]
    },
    {
      "cell_type": "code",
      "source": [
        "# 10. Write a Python function to calculate the probability mass function (PMF) of Poisson distribution.\n",
        "def poisson(lam,x):\n",
        "  num = np.exp(-lam) * (lam ** x)\n",
        "  den = math.factorial(x)\n",
        "  return num/den\n",
        "lam = 5\n",
        "x_values = np.arange(0,25)\n",
        "poisson_values = [poisson(lam,x) for x in x_values]\n",
        "plt.plot(x_values,poisson_values,color=\"orange\")\n",
        "plt.xlabel(\"X_values\")\n",
        "plt.ylabel(\"Poisson_values\")\n",
        "plt.title(\"Poisson Distribuation\")\n",
        "\n",
        "\n"
      ],
      "metadata": {
        "colab": {
          "base_uri": "https://localhost:8080/",
          "height": 489
        },
        "id": "PnPmqpbTJe1d",
        "outputId": "b50f6540-195a-476d-ecae-5e8ab3331f9c"
      },
      "execution_count": 48,
      "outputs": [
        {
          "output_type": "execute_result",
          "data": {
            "text/plain": [
              "Text(0.5, 1.0, 'Poisson Distribuation')"
            ]
          },
          "metadata": {},
          "execution_count": 48
        },
        {
          "output_type": "display_data",
          "data": {
            "text/plain": [
              "<Figure size 640x480 with 1 Axes>"
            ],
            "image/png": "[encoded data removed]"
          },
          "metadata": {}
        }
      ]
    },
    {
      "cell_type": "code",
      "source": [
        "# 11. M A company wants to test if a new website layout leads to a higher conversion rate (percentage of visitors\n",
        "# who make a purchase). They collect data from the old and new layouts to compare.\n",
        "# 50 purchases out of 1000 visitors\n",
        "\n",
        "old_layout = np.array([1] * 50 + [0] * 950)\n",
        "\n",
        "# 70 purchases out of 1000 visitors\n",
        "\n",
        "new_layout = np.array([1] * 70 + [0] * 930)\n",
        "\n",
        "n1= len(old_layout)\n",
        "n2 = len(new_layout)\n",
        "\n",
        "mean1 = np.mean(old_layout)\n",
        "mean2 = np.mean(new_layout)\n",
        "\n",
        "numerator = mean2 - mean1\n",
        "denomenator = np.sqrt(( mean1 * (1-mean1) )/n1  + ( mean2 * (1-mean2) )/n2)\n",
        "\n",
        "z_score = numerator/ denomenator\n",
        "print(\"Z_score :\",z_score)\n",
        "p_value = 1- stats.norm.cdf(z_score)\n",
        "print(\"Pvalue is :\",p_value)\n",
        "if p_value<0.05:\n",
        "  print(\"Reject the null hypothesis\")\n",
        "  print(\"The new layout leads to a higher conversion rate\")\n",
        "else:\n",
        "  print(\"Fail to reject the null hypothesis\")\n",
        "  print(\"The new layout does not leads to a higher conversion rate\")"
      ],
      "metadata": {
        "colab": {
          "base_uri": "https://localhost:8080/"
        },
        "id": "xJAejmlcK4lk",
        "outputId": "3b0b5cf0-b8f7-4dee-8aba-039e6995abc3"
      },
      "execution_count": 63,
      "outputs": [
        {
          "output_type": "stream",
          "name": "stdout",
          "text": [
            "Z_score : 1.8847805889708436\n",
            "Pvalue is : 0.029729733351217424\n",
            "Reject the null hypothesis\n",
            "The new layout leads to a higher conversion rate\n"
          ]
        }
      ]
    },
    {
      "cell_type": "code",
      "source": [
        "# 12 A tutoring service claims that its program improves students' exam scores. A sample of students who\n",
        "# participated in the program was taken, and their scores before and after the program were recorded.\n",
        "before_program = np.array([75, 80, 85, 70, 90, 78, 92, 88, 82, 87])\n",
        "\n",
        "after_program = np.array([80, 85, 90, 80, 92, 80, 95, 90, 85, 88])\n",
        "\n",
        "dif =after_program - before_program\n",
        "\n",
        "mean = np.mean(dif)\n",
        "\n",
        "var = np.var(dif)\n",
        "\n",
        "n = len(before_program)\n",
        "z_score = mean/(var/np.sqrt(n))\n",
        "\n",
        "print(\"Z_score :\",z_score)\n",
        "p_value = 1 - stats.norm.cdf(z_score)\n",
        "print(\"P_value :\",p_value)\n",
        "if p_value <0.05:\n",
        "  print(\"Reject the null hypothesis\")\n",
        "  print(\"There is improvement in exam score after joining the program\")\n",
        "else:\n",
        "  print(\"Fail to reject the null hypothesis\")\n",
        "  print(\"There is no change in exam score after joining the program\")"
      ],
      "metadata": {
        "colab": {
          "base_uri": "https://localhost:8080/"
        },
        "id": "2I-XvR3lOmLa",
        "outputId": "efe7ed70-b59b-4862-f4cb-d9bae702ed60"
      },
      "execution_count": 7,
      "outputs": [
        {
          "output_type": "stream",
          "name": "stdout",
          "text": [
            "Z_score : 1.9507556994545197\n",
            "P_value : 0.02554305700536641\n",
            "Reject the null hypothesis\n",
            "There is improvement in exam score after joining the program\n"
          ]
        }
      ]
    },
    {
      "cell_type": "code",
      "source": [
        "# 13. A pharmaceutical company wants to determine if a new drug is effective in reducing blood pressure. They\n",
        "# conduct a study and record blood pressure measurements before and after administering the drug.\n",
        "\n",
        "before_drug = np.array([145, 150, 140, 135, 155, 160, 152, 148, 130, 138])\n",
        "\n",
        "after_drug = np.array([130, 140, 132, 128, 145, 148, 138, 136, 125, 130])\n",
        "# ho : mean 1 = mean 2\n",
        "# ha : mean1 > mean 2\n",
        "\n",
        "dif = before_drug - after_drug\n",
        "mean_df = np.mean(dif)\n",
        "std_df = np.std(dif)\n",
        "n = len(before_drug)\n",
        "z_score = mean_df/(std_df/np.sqrt(n))\n",
        "alpha = 0.05\n",
        "z_critical = stats.norm.ppf(1-alpha)\n",
        "if z_score > z_critical:\n",
        "  print(\"Rejct the null Hypothesis\")\n",
        "  print(\"Decrese in blood pressure after using drug\")\n",
        "else:\n",
        "  print(\"Failed to reject the null Hypothesis\")\n",
        "  print(\"No changes in blood pressure after using drug\")\n",
        "\n"
      ],
      "metadata": {
        "colab": {
          "base_uri": "https://localhost:8080/"
        },
        "id": "YpNRCWbxRtAp",
        "outputId": "7b244c4a-e129-442e-aadf-cc5668b74078"
      },
      "execution_count": 8,
      "outputs": [
        {
          "output_type": "stream",
          "name": "stdout",
          "text": [
            "Rejct the null Hypothesis\n",
            "Decrese in blood pressure after using drug\n"
          ]
        }
      ]
    },
    {
      "cell_type": "code",
      "source": [
        "# 14. A customer service department claims that their average response time is less than 5 minutes. A sample\n",
        "# of recent customer interactions was taken, and the response times were recorded.\n",
        "response_times = np.array([4.3, 3.8, 5.1, 4.9, 4.7, 4.2, 5.2, 4.5, 4.6, 4.4])\n",
        "\n",
        "# Null hypothesis : ho : mean >= 5\n",
        "# alternative hypothesis : ha : mean < 5\n",
        "\n",
        "x = np.mean(response_times)\n",
        "mean =5\n",
        "sigma = np.std(response_times)\n",
        "n = len(response_times)\n",
        "num = x - mean\n",
        "den = sigma / np.sqrt(n)\n",
        "\n",
        "z_score = num/den\n",
        "alpha =0.05\n",
        "z_critical = stats.norm.ppf(1-alpha)\n",
        "if z_score < -z_critical:  # left tail test\n",
        "  print(\"Reject the null hypothesis\")\n",
        "  print(\"average response time is less than 5 minutes\")\n",
        "else:\n",
        "  print(\"Fail to reject the null hypothesis\")\n",
        "  print(\"average response time is more than 5 minutes\")\n",
        "\n",
        "\n"
      ],
      "metadata": {
        "colab": {
          "base_uri": "https://localhost:8080/"
        },
        "id": "fNmK4wyJVtto",
        "outputId": "c248e185-4417-43f3-bd1d-28182bedbd23"
      },
      "execution_count": 12,
      "outputs": [
        {
          "output_type": "stream",
          "name": "stdout",
          "text": [
            "Reject the null hypothesis\n",
            "average response time is less than 5 minutes\n"
          ]
        }
      ]
    },
    {
      "cell_type": "code",
      "source": [
        "# 15. A company is testing two different website layouts to see which one leads to higher click-through rates.\n",
        "# Write a Python function to perform an A/B test analysis, including calculating the t-statistic, degrees of\n",
        "# freedom, and p-value.\n",
        "\n",
        "layout_a_clicks = [28, 32, 33, 29, 31, 34, 30, 35, 36, 37]\n",
        "\n",
        "layout_b_clicks = [40, 41, 38, 42, 39, 44, 43, 41, 45, 47]\n",
        "\n",
        "# ho : mean1 = mean2\n",
        "# ha : mean1 != mean2\n",
        "\n",
        "t_score ,pvalue=scipy.stats.ttest_ind(layout_a_clicks,layout_b_clicks)\n",
        "print(\"T statistics :\",t_score)\n",
        "print(\"P value :\",pvalue)\n",
        "\n",
        "\n",
        "n1 = len(layout_a_clicks)\n",
        "n2 = len(layout_b_clicks)\n",
        "\n",
        "var1 = np.var(layout_a_clicks,ddof=1)\n",
        "var2 = np.var(layout_b_clicks,ddof=1)\n",
        "\n",
        "a = var1/n1\n",
        "b = var2/n2\n",
        "\n",
        "dof = (a+b) ** 2 / ((a**2 /(n1-1)) + (b**2 / (n2-1)) )\n",
        "print(\"Degree of Freedom :\",dof)\n",
        "if pvalue<0.05:\n",
        "  print(\"Reject the null hypothesis\")\n",
        "  print(\"There is a difference in a and b clicks\")\n",
        "else:\n",
        "  print(\"Fail ro reject the null hypothesis\")\n",
        "  print(\"There is a no difference in a and b clicks\")\n"
      ],
      "metadata": {
        "colab": {
          "base_uri": "https://localhost:8080/"
        },
        "id": "rxGNBTJBXnN9",
        "outputId": "ffa153cc-34b7-474e-e58f-95e698674b2f"
      },
      "execution_count": 27,
      "outputs": [
        {
          "output_type": "stream",
          "name": "stdout",
          "text": [
            "T statistics : -7.298102156175071\n",
            "P value : 8.833437608301987e-07\n",
            "Degree of Freedom : 17.879871863320876\n",
            "Reject the null hypothesis\n",
            "There is a difference in a and b clicks\n"
          ]
        }
      ]
    },
    {
      "cell_type": "code",
      "source": [
        "# 16. A pharmaceutical company wants to determine if a new drug is more effective than an existing drug in reducing cholesterol\n",
        "# levels.Create a program to analyze the clinical trial data and calculate the tstatistic and p-value for the\n",
        "# treatment effect.\n",
        "existing_drug_levels = [180, 182, 175, 185, 178, 176, 172, 184, 179, 183]\n",
        "\n",
        "new_drug_levels = [170, 172, 165, 168, 175, 173, 170, 178, 172, 176]\n",
        "\n",
        "# ho : old <= new\n",
        "# ha : old > new\n",
        "\n",
        "t_score , pvalue = scipy.stats.ttest_ind(existing_drug_levels,new_drug_levels)\n",
        "print(\"T statistics :\",t_score)\n",
        "print(\"P value :\",pvalue)\n",
        "\n",
        "if pvalue<0.05:\n",
        "  print(\"Reject the null hypothesis\")\n",
        "  print(\"new drug is more effective than an existing drug\")\n",
        "else:\n",
        "  print(\"Fail to reject the null hypothesis\")\n",
        "  print(\"new drug is not  more effective than an existing drug\")\n"
      ],
      "metadata": {
        "colab": {
          "base_uri": "https://localhost:8080/"
        },
        "id": "vpwvvgbIZ7-p",
        "outputId": "dc17eacf-39a9-4217-ad34-e6b1b8d689da"
      },
      "execution_count": 29,
      "outputs": [
        {
          "output_type": "stream",
          "name": "stdout",
          "text": [
            "T statistics : 4.14048098620866\n",
            "P value : 0.0006143398442372505\n",
            "Reject the null hypothesis\n",
            "new drug is more effective than an existing drug\n"
          ]
        }
      ]
    },
    {
      "cell_type": "code",
      "source": [
        "# 17. A school district introduces an educational intervention program to improve math scores. Write a Python\n",
        "# function to analyze pre- and post-intervention test scores, calculating the t-statistic and p-value to\n",
        "# determine if the intervention had a significant impact.\n",
        "\n",
        "# ho : pre = post\n",
        "# ha : pre < post\n",
        "\n",
        "pre_intervention_scores = [80, 85, 90, 75, 88, 82, 92, 78, 85, 87]\n",
        "\n",
        "post_intervention_scores = [90, 92, 88, 92, 95, 91, 96, 93, 89, 93]\n",
        "\n",
        "n1 = len(pre_intervention_scores)\n",
        "n2 = len(post_intervention_scores)\n",
        "\n",
        "mean1 = np.mean(pre_intervention_scores)\n",
        "mean2 = np.mean(post_intervention_scores)\n",
        "\n",
        "var1 = np.var(pre_intervention_scores,ddof=1)\n",
        "var2 = np.var(post_intervention_scores,ddof=1)\n",
        "\n",
        "\n",
        "t_statistics = (mean1 -mean2)/np.sqrt(var1/n1  + var2/n2)\n",
        "alpha = 0.05\n",
        "\n",
        "a = var1/n1\n",
        "b = var2/n2\n",
        "\n",
        "dof = (a+b) **2 / ((a**2 / (n1-1) )  + ( b **2 / (n2-1)) )\n",
        "\n",
        "\n",
        "t_criticial = stats.t.ppf(alpha,dof)\n",
        "print(\"t_statistics :\",t_statistics)\n",
        "print(\"t_criticial :\",t_criticial)\n",
        "print(\"DOf :\",dof)\n",
        "\n",
        "if t_statistics < t_criticial:\n",
        "  print(\"Reject the null hypothesis\")\n",
        "  print(\"Improvement in scores after program\")\n",
        "else:\n",
        "  print(\"Fail to reject the null hypothesis\")\n",
        "  print(\"No Improvement in scores after program\")\n"
      ],
      "metadata": {
        "colab": {
          "base_uri": "https://localhost:8080/"
        },
        "id": "3QYgaTCyf9ff",
        "outputId": "73301dca-84cb-4ccb-a722-22f5ede72689"
      },
      "execution_count": 38,
      "outputs": [
        {
          "output_type": "stream",
          "name": "stdout",
          "text": [
            "t_statistics : -4.080355128162117\n",
            "t_criticial : -1.77400168401799\n",
            "DOf : 12.712452956489297\n",
            "Reject the null hypothesis\n",
            "Improvement in scores after program\n"
          ]
        }
      ]
    },
    {
      "cell_type": "code",
      "source": [
        "# 18. An HR department wants to investigate if there's a gender-based salary gap within the company. Develop\n",
        "# a program to analyze salary data, calculate the t-statistic, and determine if there's a statistically\n",
        "# significant difference between the average salaries of male and female employees.\n",
        "np.random.seed(0)  # For reproducibility\n",
        "\n",
        "male_salaries = np.random.normal(loc=50000, scale=10000, size=20)\n",
        "\n",
        "female_salaries = np.random.normal(loc=55000, scale=9000, size=20)\n",
        "\n",
        "# ho : male = female\n",
        "# ha : male !=female\n",
        "\n",
        "t_score,p_value = scipy.stats.ttest_ind(male_salaries,female_salaries)\n",
        "print(\"T-statistics :\",t_score)\n",
        "print(\"P-value :\",p_value)\n",
        "if p_value<0.05:\n",
        "  print(\"Reject the null hypothesis\")\n",
        "  print(\"There is gender bias salary gap\")\n",
        "else:\n",
        "  print(\"Fail to reject the null hypothesis\")\n",
        "  print(\"There is no gender bias salary gap\")"
      ],
      "metadata": {
        "colab": {
          "base_uri": "https://localhost:8080/"
        },
        "id": "D2DJg98FjTpF",
        "outputId": "b823493f-f8e4-48d3-e852-53767e64ef1f"
      },
      "execution_count": 39,
      "outputs": [
        {
          "output_type": "stream",
          "name": "stdout",
          "text": [
            "T-statistics : 0.06114208969631383\n",
            "P-value : 0.9515665020676465\n",
            "Fail to reject the null hypothesis\n",
            "There is no gender bias salary gap\n"
          ]
        }
      ]
    },
    {
      "cell_type": "code",
      "source": [
        "# 19 .A manufacturer produces two different versions of a product and wants to compare their quality scores.\n",
        "# Create a Python function to analyze quality assessment data, calculate the t-statistic, and decide\n",
        "# whether there's a significant difference in quality between the two versions\n",
        "\n",
        "version1_scores = [85, 88, 82, 89, 87, 84, 90, 88, 85, 86, 91, 83, 87, 84, 89, 86, 84, 88, 85, 86, 89, 90, 87, 88, 85]\n",
        "\n",
        "version2_scores = [80, 78, 83, 81, 79, 82, 76, 80, 78, 81, 77, 82, 80, 79, 82, 79, 80, 81, 79, 82, 79, 78, 80, 81, 82]\n",
        "\n",
        "# ho : mean1 = mean2\n",
        "# ha : mean1 != mean2\n",
        "\n",
        "mean1 = np.mean(version1_scores)\n",
        "mean2 = np.mean(version2_scores)\n",
        "\n",
        "var1 = np.var(version1_scores,ddof=1)\n",
        "var2 = np.var(version2_scores,ddof=1)\n",
        "\n",
        "n1=  len(version1_scores)\n",
        "n2 = len(version2_scores)\n",
        "\n",
        "dof = n1+n2 -2\n",
        "\n",
        "t_score = (mean1 - mean2)/np.sqrt(var1/n1 + var2/n2)\n",
        "\n",
        "t_critical = stats.t.ppf(1-0.05/2,dof)\n",
        "print(\"T-score :\",t_score)\n",
        "print(\"T-critical :\",t_critical)\n",
        "if abs(t_score) > t_critical:\n",
        "  print(\"reject the null hypothesis\")\n",
        "  print(\"There is difference in mean\")\n",
        "else:\n",
        "  print(\"failed to reject the null hypothesis\")\n",
        "  print(\"There is no difference in mean\")\n"
      ],
      "metadata": {
        "colab": {
          "base_uri": "https://localhost:8080/"
        },
        "id": "IfGzSnEDqMcS",
        "outputId": "1cedd755-ca9f-45ce-f16c-93a60acde67e"
      },
      "execution_count": 44,
      "outputs": [
        {
          "output_type": "stream",
          "name": "stdout",
          "text": [
            "T-score : 11.325830417646698\n",
            "T-critical : 2.010634757624232\n",
            "reject the null hypothesis\n",
            "There is difference in mean\n"
          ]
        }
      ]
    },
    {
      "cell_type": "code",
      "source": [
        "20. #  A restaurant chain collects customer satisfaction scores for two different branches. Write a program to\n",
        "# analyze the scores, calculate the t-statistic, and determine if there's a statistically significant difference in\n",
        "# customer satisfaction between the branches.\n",
        "branch_a_scores = [4, 5, 3, 4, 5, 4, 5, 3, 4, 4, 5, 4, 4, 3, 4, 5, 5, 4, 3, 4, 5, 4, 3, 5, 4, 4, 5, 3, 4, 5, 4]\n",
        "\n",
        "branch_b_scores = [3, 4, 2, 3, 4, 3, 4, 2, 3, 3, 4, 3, 3, 2, 3, 4, 4, 3, 2, 3, 4, 3, 2, 4, 3, 3, 4, 2, 3, 4, 3]\n",
        "\n",
        "# ho : mean_a = mean_b\n",
        "# ha : mean_a != mean_b\n",
        "t_score,p_value = scipy.stats.ttest_ind(branch_a_scores,branch_b_scores)\n",
        "\n",
        "if p_value<0.05:\n",
        "  print(\"Reject the null hypothesis\")\n",
        "  print(\"Diffrence in both\")\n",
        "else:\n",
        "  print(\"Failed to reject the null hypothesis\")\n",
        "  print(\"No diffrence in both\")\n"
      ],
      "metadata": {
        "colab": {
          "base_uri": "https://localhost:8080/"
        },
        "id": "URejLDfNtuvB",
        "outputId": "64a8a43a-fb1f-4e1f-f2d0-5f3b27063ed8"
      },
      "execution_count": 45,
      "outputs": [
        {
          "output_type": "stream",
          "name": "stdout",
          "text": [
            "Reject the null hypothesis\n",
            "Diffrence in both\n"
          ]
        }
      ]
    },
    {
      "cell_type": "code",
      "source": [
        "# 21. A political analyst wants to determine if there is a significant association between age groups and voter\n",
        "# preferences (Candidate A or Candidate B). They collect data from a sample of 500 voters and classify\n",
        "# them into different age groups and candidate preferences. Perform a Chi-Square test to determine if\n",
        "# there is a significant association between age groups and voter preferences.\n",
        "\n",
        "np.random.seed(0)\n",
        "\n",
        "age_groups = np.random.choice([ '18-30' , '31-50' , '51+', '51+'], size=30)\n",
        "\n",
        "voter_preferences = np.random.choice(['Candidate A', 'Candidate B'], size=30)\n",
        "\n",
        "table= pd.crosstab(age_groups,voter_preferences)\n",
        "print(table)\n",
        "chi_stat ,p_value,dof,expected = stats.chi2_contingency(table)\n",
        "print(\"chi_stat :\",chi_stat)\n",
        "print(\"P-value:\", p_value)\n",
        "print(\"Degrees of Freedom:\", dof)\n",
        "print(\"Expected Frequencies:\\n\", expected)\n",
        "\n",
        "alpha = 0.05\n",
        "if p_value < alpha:\n",
        "    print(\"Reject the null hypothesis: There is a significant association between age groups and voter preferences.\")\n",
        "else:\n",
        "    print(\"Fail to reject the null hypothesis: No significant association between age groups and voter preferences.\")\n"
      ],
      "metadata": {
        "colab": {
          "base_uri": "https://localhost:8080/"
        },
        "id": "s7GH36K_xXY3",
        "outputId": "ccb1ce4d-a991-43fe-e2f9-f0742b3dcf5c"
      },
      "execution_count": 48,
      "outputs": [
        {
          "output_type": "stream",
          "name": "stdout",
          "text": [
            "col_0  Candidate A  Candidate B\n",
            "row_0                          \n",
            "18-30            2            6\n",
            "31-50            4            4\n",
            "51+              5            9\n",
            "chi_stat : 1.086807928913192\n",
            "P-value: 0.5807679703526951\n",
            "Degrees of Freedom: 2\n",
            "Expected Frequencies:\n",
            " [[2.93333333 5.06666667]\n",
            " [2.93333333 5.06666667]\n",
            " [5.13333333 8.86666667]]\n",
            "Fail to reject the null hypothesis: No significant association between age groups and voter preferences.\n"
          ]
        }
      ]
    },
    {
      "cell_type": "code",
      "source": [
        "# 22. A company conducted a customer satisfaction survey to determine if there is a significant relationship\n",
        "# between product satisfaction levels (Satisfied, Neutral, Dissatisfied) and the region where customers are\n",
        "# located (East, West, North,#Sample data: Product satisfaction levels (rows) vs. Customer regions (columns)\n",
        "\n",
        "data = np.array([[50, 30, 40, 20], [30, 40, 30, 50], [20, 30, 40, 30]])\n",
        "#Sample data: Product satisfaction levels (rows) vs. Customer regions (columns)\n",
        "chi_stat,pvalue,dof,expected = stats.chi2_contingency(data)\n",
        "\n",
        "print(\"chi_stat :\",chi_stat)\n",
        "print(\"P-value:\", p_value)\n",
        "print(\"Degrees of Freedom:\", dof)\n",
        "print(\"Expected Frequencies:\\n\", expected)\n",
        "\n",
        "alpha = 0.05\n",
        "if pvalue < alpha:\n",
        "    print(\"Reject the null hypothesis: There is a significant relationship between satisfaction and region.\")\n",
        "else:\n",
        "    print(\"Fail to reject the null hypothesis: No significant relationship found.\")\n"
      ],
      "metadata": {
        "colab": {
          "base_uri": "https://localhost:8080/"
        },
        "id": "W1MHu7gcyvnf",
        "outputId": "9db6068a-666f-418a-d68e-771d1070db6d"
      },
      "execution_count": 50,
      "outputs": [
        {
          "output_type": "stream",
          "name": "stdout",
          "text": [
            "chi_stat : 27.777056277056275\n",
            "P-value: 0.5807679703526951\n",
            "Degrees of Freedom: 6\n",
            "Expected Frequencies:\n",
            " [[34.14634146 34.14634146 37.56097561 34.14634146]\n",
            " [36.58536585 36.58536585 40.24390244 36.58536585]\n",
            " [29.26829268 29.26829268 32.19512195 29.26829268]]\n",
            "Reject the null hypothesis: There is a significant relationship between satisfaction and region.\n"
          ]
        }
      ]
    },
    {
      "cell_type": "code",
      "source": [
        "# 23. A company implemented an employee training program to improve job performance (Effective, Neutral,\n",
        "# Ineffective). After the training, they collected data from a sample of employees and classified them based\n",
        "# on their job performance before and after the training. Perform a Chi-Square test to determine if there is a\n",
        "# significant difference between job performance levels before and after the training\n",
        "\n",
        "data = np.array([[50, 30, 20], [30, 40, 30], [20, 30, 40]])\n",
        "\n",
        "chi_stat,pvalue,dof,expected = stats.chi2_contingency(data)\n",
        "\n",
        "print(\"chi_stat :\",chi_stat)\n",
        "print(\"P-value:\", p_value)\n",
        "print(\"Degrees of Freedom:\", dof)\n",
        "print(\"Expected Frequencies:\\n\", expected)\n",
        "\n",
        "alpha = 0.05\n",
        "if pvalue < alpha:\n",
        "    print(\"Reject the null hypothesis: There is a significant difference between job performance levels.\")\n",
        "else:\n",
        "    print(\"Fail to reject the null hypothesis: No significant difference between job performance levels.\")\n"
      ],
      "metadata": {
        "colab": {
          "base_uri": "https://localhost:8080/"
        },
        "id": "MHyrr9HH1m-e",
        "outputId": "8dcbd9a4-677c-4c40-8720-aa126e6d9f99"
      },
      "execution_count": 51,
      "outputs": [
        {
          "output_type": "stream",
          "name": "stdout",
          "text": [
            "chi_stat : 22.161728395061726\n",
            "P-value: 0.5807679703526951\n",
            "Degrees of Freedom: 4\n",
            "Expected Frequencies:\n",
            " [[34.48275862 34.48275862 31.03448276]\n",
            " [34.48275862 34.48275862 31.03448276]\n",
            " [31.03448276 31.03448276 27.93103448]]\n",
            "Reject the null hypothesis: There is a significant difference between job performance levels.\n"
          ]
        }
      ]
    },
    {
      "cell_type": "code",
      "source": [
        "# 24. A company produces three different versions of a product: Standard, Premium, and Deluxe. The\n",
        "# company wants to determine if there is a significant difference in customer satisfaction scores among the\n",
        "# three product versions. They conducted a survey and collected customer satisfaction scores for each\n",
        "# version from a random sample of customers. Perform an ANOVA test to determine if there is a significant\n",
        "# difference in customer satisfaction scores.\n",
        "standard_scores = [80, 85, 90, 78, 88, 82, 92, 78, 85, 87]\n",
        "\n",
        "premium_scores = [90, 92, 88, 92, 95, 91, 96, 93, 89, 93]\n",
        "\n",
        "deluxe_scores = [95, 98, 92, 97, 96, 94, 98, 97, 92, 99]\n",
        "\n",
        "f_stat ,p_value = stats.f_oneway(standard_scores,premium_scores,deluxe_scores)\n",
        "print(\"F-statistic:\", f_stat)\n",
        "print(\"P-value:\", p_value)\n",
        "\n",
        "alpha = 0.05\n",
        "if p_value < alpha:\n",
        "    print(\"Reject the null hypothesis: Significant difference in customer satisfaction.\")\n",
        "else:\n",
        "    print(\"Fail to reject the null hypothesis: No significant difference in customer satisfaction.\")"
      ],
      "metadata": {
        "colab": {
          "base_uri": "https://localhost:8080/"
        },
        "id": "XGAy5L0e2vUd",
        "outputId": "701ea9b3-fca6-4cdf-93ff-9d57e92e849b"
      },
      "execution_count": 52,
      "outputs": [
        {
          "output_type": "stream",
          "name": "stdout",
          "text": [
            "F-statistic: 27.03556231003039\n",
            "P-value: 3.5786328857349003e-07\n",
            "Reject the null hypothesis: Significant difference in customer satisfaction.\n"
          ]
        }
      ]
    },
    {
      "cell_type": "code",
      "source": [],
      "metadata": {
        "id": "eDPexVXF3jjF"
      },
      "execution_count": null,
      "outputs": []
    }
  ]
}